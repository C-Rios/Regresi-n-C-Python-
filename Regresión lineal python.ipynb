{
  "nbformat": 4,
  "nbformat_minor": 0,
  "metadata": {
    "colab": {
      "name": "Parcial LR - Introducción a ML.ipynb",
      "provenance": [],
      "collapsed_sections": []
    },
    "kernelspec": {
      "name": "python3",
      "display_name": "Python 3"
    },
    "language_info": {
      "name": "python"
    }
  },
  "cells": [
    {
      "cell_type": "markdown",
      "metadata": {
        "id": "vX7-bJz4I1mt"
      },
      "source": [
        "<div> \n",
        "<img src=\"https://res-5.cloudinary.com/crunchbase-production/image/upload/c_lpad,h_256,w_256,f_auto,q_auto:eco/v1455514364/pim02bzqvgz0hibsra41.png\" align=\"right\"><br><br><FONT FACE=\"times new roman\" SIZE=5>\n",
        "<b>Parcial Segundo Corte Introducción a ML </b>\n",
        "<br>\n",
        "<i><b>Estudiantes:<br></b>\n",
        "* </i> Juan Camilo De Los Ríos Hernández. <br>\n",
        "* </i> Johan Yesid Moreno Forero.\n",
        "<br>\n",
        "<i><b>Docente:</b></i> John Corredor, PhD.\n",
        "<br>\n",
        "<i><b>Asignatura:</b></i> Machine Learning Computación Avanzada\n",
        "<br>\n",
        "24/10/2021\n",
        "<br>\n",
        "</FONT>\n",
        "</div>"
      ]
    },
    {
      "cell_type": "markdown",
      "metadata": {
        "id": "1vDNH_KFK441"
      },
      "source": [
        "# **Preparación de los datos de entrada**"
      ]
    },
    {
      "cell_type": "markdown",
      "metadata": {
        "id": "H1dAmE9rLDas"
      },
      "source": [
        "*Importación de las bibliotecas necesarias*"
      ]
    },
    {
      "cell_type": "code",
      "metadata": {
        "id": "IlZpV1qIJ7Ts"
      },
      "source": [
        "import pandas as pd\n",
        "import numpy as np\n",
        "import matplotlib.pyplot as plt\n",
        "from sklearn.model_selection import train_test_split\n",
        "from sklearn.linear_model import LinearRegression\n",
        "from sklearn.metrics import mean_squared_error, mean_absolute_error, r2_score\n",
        "import sys\n",
        "from io import StringIO"
      ],
      "execution_count": 119,
      "outputs": []
    },
    {
      "cell_type": "markdown",
      "metadata": {
        "id": "gK0heJzuLKYn"
      },
      "source": [
        "*Se prepara el link en el cual está el dataset a utilizar*"
      ]
    },
    {
      "cell_type": "code",
      "metadata": {
        "id": "BTWQDIsNJTFf"
      },
      "source": [
        "#El link usualmente genera errores (Error 404)\n",
        "url = 'https://raw.githubusercontent.com/corredor-john/universidadsergioarboleda/main/dataWineQuality.csv'\n",
        "urlAux = '/content/drive/MyDrive/Machine learning/winedata.csv'"
      ],
      "execution_count": 120,
      "outputs": []
    },
    {
      "cell_type": "markdown",
      "metadata": {
        "id": "JYcS50MgLQEe"
      },
      "source": [
        "*Por medio de pandas se lee el dataset y se comprueba imprimiendo los primeros cinco datos del dataframe*"
      ]
    },
    {
      "cell_type": "code",
      "metadata": {
        "colab": {
          "base_uri": "https://localhost:8080/",
          "height": 241
        },
        "id": "qRGdmnhPJ8_h",
        "outputId": "c1b8e3e7-b5b3-41bf-d2ba-c7dec634ea72"
      },
      "source": [
        "try:\n",
        "  df_wineNorm = pd.read_csv(url)\n",
        "  print(\"Usando el csv de git\")\n",
        "except:\n",
        "  df_wineNorm = pd.read_csv(urlAux, names=['fixed acidity','volatile acidity','citric acid','residual sugar','chlorides','free sulfur dioxide','total sulfur dioxide','density','pH','sulphates','alcohol','quality'])\n",
        "  print(\"Usando el fichero en drive\")\n",
        "df_wineNorm.head()"
      ],
      "execution_count": 121,
      "outputs": [
        {
          "output_type": "stream",
          "name": "stdout",
          "text": [
            "Usando el fichero en drive\n"
          ]
        },
        {
          "output_type": "execute_result",
          "data": {
            "text/html": [
              "<div>\n",
              "<style scoped>\n",
              "    .dataframe tbody tr th:only-of-type {\n",
              "        vertical-align: middle;\n",
              "    }\n",
              "\n",
              "    .dataframe tbody tr th {\n",
              "        vertical-align: top;\n",
              "    }\n",
              "\n",
              "    .dataframe thead th {\n",
              "        text-align: right;\n",
              "    }\n",
              "</style>\n",
              "<table border=\"1\" class=\"dataframe\">\n",
              "  <thead>\n",
              "    <tr style=\"text-align: right;\">\n",
              "      <th></th>\n",
              "      <th>fixed acidity</th>\n",
              "      <th>volatile acidity</th>\n",
              "      <th>citric acid</th>\n",
              "      <th>residual sugar</th>\n",
              "      <th>chlorides</th>\n",
              "      <th>free sulfur dioxide</th>\n",
              "      <th>total sulfur dioxide</th>\n",
              "      <th>density</th>\n",
              "      <th>pH</th>\n",
              "      <th>sulphates</th>\n",
              "      <th>alcohol</th>\n",
              "      <th>quality</th>\n",
              "    </tr>\n",
              "  </thead>\n",
              "  <tbody>\n",
              "    <tr>\n",
              "      <th>0</th>\n",
              "      <td>7.4</td>\n",
              "      <td>0.70</td>\n",
              "      <td>0.00</td>\n",
              "      <td>1.9</td>\n",
              "      <td>0.076</td>\n",
              "      <td>11.0</td>\n",
              "      <td>34.0</td>\n",
              "      <td>0.9978</td>\n",
              "      <td>3.51</td>\n",
              "      <td>0.56</td>\n",
              "      <td>9.4</td>\n",
              "      <td>5</td>\n",
              "    </tr>\n",
              "    <tr>\n",
              "      <th>1</th>\n",
              "      <td>7.8</td>\n",
              "      <td>0.88</td>\n",
              "      <td>0.00</td>\n",
              "      <td>2.6</td>\n",
              "      <td>0.098</td>\n",
              "      <td>25.0</td>\n",
              "      <td>67.0</td>\n",
              "      <td>0.9968</td>\n",
              "      <td>3.20</td>\n",
              "      <td>0.68</td>\n",
              "      <td>9.8</td>\n",
              "      <td>5</td>\n",
              "    </tr>\n",
              "    <tr>\n",
              "      <th>2</th>\n",
              "      <td>7.8</td>\n",
              "      <td>0.76</td>\n",
              "      <td>0.04</td>\n",
              "      <td>2.3</td>\n",
              "      <td>0.092</td>\n",
              "      <td>15.0</td>\n",
              "      <td>54.0</td>\n",
              "      <td>0.9970</td>\n",
              "      <td>3.26</td>\n",
              "      <td>0.65</td>\n",
              "      <td>9.8</td>\n",
              "      <td>5</td>\n",
              "    </tr>\n",
              "    <tr>\n",
              "      <th>3</th>\n",
              "      <td>11.2</td>\n",
              "      <td>0.28</td>\n",
              "      <td>0.56</td>\n",
              "      <td>1.9</td>\n",
              "      <td>0.075</td>\n",
              "      <td>17.0</td>\n",
              "      <td>60.0</td>\n",
              "      <td>0.9980</td>\n",
              "      <td>3.16</td>\n",
              "      <td>0.58</td>\n",
              "      <td>9.8</td>\n",
              "      <td>6</td>\n",
              "    </tr>\n",
              "    <tr>\n",
              "      <th>4</th>\n",
              "      <td>7.4</td>\n",
              "      <td>0.70</td>\n",
              "      <td>0.00</td>\n",
              "      <td>1.9</td>\n",
              "      <td>0.076</td>\n",
              "      <td>11.0</td>\n",
              "      <td>34.0</td>\n",
              "      <td>0.9978</td>\n",
              "      <td>3.51</td>\n",
              "      <td>0.56</td>\n",
              "      <td>9.4</td>\n",
              "      <td>5</td>\n",
              "    </tr>\n",
              "  </tbody>\n",
              "</table>\n",
              "</div>"
            ],
            "text/plain": [
              "   fixed acidity  volatile acidity  citric acid  ...  sulphates  alcohol  quality\n",
              "0            7.4              0.70         0.00  ...       0.56      9.4        5\n",
              "1            7.8              0.88         0.00  ...       0.68      9.8        5\n",
              "2            7.8              0.76         0.04  ...       0.65      9.8        5\n",
              "3           11.2              0.28         0.56  ...       0.58      9.8        6\n",
              "4            7.4              0.70         0.00  ...       0.56      9.4        5\n",
              "\n",
              "[5 rows x 12 columns]"
            ]
          },
          "metadata": {},
          "execution_count": 121
        }
      ]
    },
    {
      "cell_type": "markdown",
      "metadata": {
        "id": "zWabZuWPLtQv"
      },
      "source": [
        "*Se verifica que no hayan valores nulos*"
      ]
    },
    {
      "cell_type": "code",
      "metadata": {
        "colab": {
          "base_uri": "https://localhost:8080/"
        },
        "id": "_W6L7XsKKlTr",
        "outputId": "f9876888-c325-47d6-99a0-e32519614e21"
      },
      "source": [
        "df_wineNorm.info()"
      ],
      "execution_count": 122,
      "outputs": [
        {
          "output_type": "stream",
          "name": "stdout",
          "text": [
            "<class 'pandas.core.frame.DataFrame'>\n",
            "RangeIndex: 1599 entries, 0 to 1598\n",
            "Data columns (total 12 columns):\n",
            " #   Column                Non-Null Count  Dtype  \n",
            "---  ------                --------------  -----  \n",
            " 0   fixed acidity         1599 non-null   float64\n",
            " 1   volatile acidity      1599 non-null   float64\n",
            " 2   citric acid           1599 non-null   float64\n",
            " 3   residual sugar        1599 non-null   float64\n",
            " 4   chlorides             1599 non-null   float64\n",
            " 5   free sulfur dioxide   1599 non-null   float64\n",
            " 6   total sulfur dioxide  1599 non-null   float64\n",
            " 7   density               1599 non-null   float64\n",
            " 8   pH                    1599 non-null   float64\n",
            " 9   sulphates             1599 non-null   float64\n",
            " 10  alcohol               1599 non-null   float64\n",
            " 11  quality               1599 non-null   int64  \n",
            "dtypes: float64(11), int64(1)\n",
            "memory usage: 150.0 KB\n"
          ]
        }
      ]
    },
    {
      "cell_type": "markdown",
      "metadata": {
        "id": "uf07ccAELzdD"
      },
      "source": [
        "*Se calculan los valores estadísticos para cada una de las características y la variable dependiente*"
      ]
    },
    {
      "cell_type": "code",
      "metadata": {
        "colab": {
          "base_uri": "https://localhost:8080/",
          "height": 426
        },
        "id": "5U8nyae5Kt_m",
        "outputId": "5e8c30f8-e6f7-4ae3-a6a3-f23b8598c9ff"
      },
      "source": [
        "df_wineNorm.describe().T"
      ],
      "execution_count": 123,
      "outputs": [
        {
          "output_type": "execute_result",
          "data": {
            "text/html": [
              "<div>\n",
              "<style scoped>\n",
              "    .dataframe tbody tr th:only-of-type {\n",
              "        vertical-align: middle;\n",
              "    }\n",
              "\n",
              "    .dataframe tbody tr th {\n",
              "        vertical-align: top;\n",
              "    }\n",
              "\n",
              "    .dataframe thead th {\n",
              "        text-align: right;\n",
              "    }\n",
              "</style>\n",
              "<table border=\"1\" class=\"dataframe\">\n",
              "  <thead>\n",
              "    <tr style=\"text-align: right;\">\n",
              "      <th></th>\n",
              "      <th>count</th>\n",
              "      <th>mean</th>\n",
              "      <th>std</th>\n",
              "      <th>min</th>\n",
              "      <th>25%</th>\n",
              "      <th>50%</th>\n",
              "      <th>75%</th>\n",
              "      <th>max</th>\n",
              "    </tr>\n",
              "  </thead>\n",
              "  <tbody>\n",
              "    <tr>\n",
              "      <th>fixed acidity</th>\n",
              "      <td>1599.0</td>\n",
              "      <td>8.319637</td>\n",
              "      <td>1.741096</td>\n",
              "      <td>4.60000</td>\n",
              "      <td>7.1000</td>\n",
              "      <td>7.90000</td>\n",
              "      <td>9.200000</td>\n",
              "      <td>15.90000</td>\n",
              "    </tr>\n",
              "    <tr>\n",
              "      <th>volatile acidity</th>\n",
              "      <td>1599.0</td>\n",
              "      <td>0.527821</td>\n",
              "      <td>0.179060</td>\n",
              "      <td>0.12000</td>\n",
              "      <td>0.3900</td>\n",
              "      <td>0.52000</td>\n",
              "      <td>0.640000</td>\n",
              "      <td>1.58000</td>\n",
              "    </tr>\n",
              "    <tr>\n",
              "      <th>citric acid</th>\n",
              "      <td>1599.0</td>\n",
              "      <td>0.270976</td>\n",
              "      <td>0.194801</td>\n",
              "      <td>0.00000</td>\n",
              "      <td>0.0900</td>\n",
              "      <td>0.26000</td>\n",
              "      <td>0.420000</td>\n",
              "      <td>1.00000</td>\n",
              "    </tr>\n",
              "    <tr>\n",
              "      <th>residual sugar</th>\n",
              "      <td>1599.0</td>\n",
              "      <td>2.538806</td>\n",
              "      <td>1.409928</td>\n",
              "      <td>0.90000</td>\n",
              "      <td>1.9000</td>\n",
              "      <td>2.20000</td>\n",
              "      <td>2.600000</td>\n",
              "      <td>15.50000</td>\n",
              "    </tr>\n",
              "    <tr>\n",
              "      <th>chlorides</th>\n",
              "      <td>1599.0</td>\n",
              "      <td>0.087467</td>\n",
              "      <td>0.047065</td>\n",
              "      <td>0.01200</td>\n",
              "      <td>0.0700</td>\n",
              "      <td>0.07900</td>\n",
              "      <td>0.090000</td>\n",
              "      <td>0.61100</td>\n",
              "    </tr>\n",
              "    <tr>\n",
              "      <th>free sulfur dioxide</th>\n",
              "      <td>1599.0</td>\n",
              "      <td>15.874922</td>\n",
              "      <td>10.460157</td>\n",
              "      <td>1.00000</td>\n",
              "      <td>7.0000</td>\n",
              "      <td>14.00000</td>\n",
              "      <td>21.000000</td>\n",
              "      <td>72.00000</td>\n",
              "    </tr>\n",
              "    <tr>\n",
              "      <th>total sulfur dioxide</th>\n",
              "      <td>1599.0</td>\n",
              "      <td>46.467792</td>\n",
              "      <td>32.895324</td>\n",
              "      <td>6.00000</td>\n",
              "      <td>22.0000</td>\n",
              "      <td>38.00000</td>\n",
              "      <td>62.000000</td>\n",
              "      <td>289.00000</td>\n",
              "    </tr>\n",
              "    <tr>\n",
              "      <th>density</th>\n",
              "      <td>1599.0</td>\n",
              "      <td>0.996747</td>\n",
              "      <td>0.001887</td>\n",
              "      <td>0.99007</td>\n",
              "      <td>0.9956</td>\n",
              "      <td>0.99675</td>\n",
              "      <td>0.997835</td>\n",
              "      <td>1.00369</td>\n",
              "    </tr>\n",
              "    <tr>\n",
              "      <th>pH</th>\n",
              "      <td>1599.0</td>\n",
              "      <td>3.311113</td>\n",
              "      <td>0.154386</td>\n",
              "      <td>2.74000</td>\n",
              "      <td>3.2100</td>\n",
              "      <td>3.31000</td>\n",
              "      <td>3.400000</td>\n",
              "      <td>4.01000</td>\n",
              "    </tr>\n",
              "    <tr>\n",
              "      <th>sulphates</th>\n",
              "      <td>1599.0</td>\n",
              "      <td>0.658149</td>\n",
              "      <td>0.169507</td>\n",
              "      <td>0.33000</td>\n",
              "      <td>0.5500</td>\n",
              "      <td>0.62000</td>\n",
              "      <td>0.730000</td>\n",
              "      <td>2.00000</td>\n",
              "    </tr>\n",
              "    <tr>\n",
              "      <th>alcohol</th>\n",
              "      <td>1599.0</td>\n",
              "      <td>10.422983</td>\n",
              "      <td>1.065668</td>\n",
              "      <td>8.40000</td>\n",
              "      <td>9.5000</td>\n",
              "      <td>10.20000</td>\n",
              "      <td>11.100000</td>\n",
              "      <td>14.90000</td>\n",
              "    </tr>\n",
              "    <tr>\n",
              "      <th>quality</th>\n",
              "      <td>1599.0</td>\n",
              "      <td>5.636023</td>\n",
              "      <td>0.807569</td>\n",
              "      <td>3.00000</td>\n",
              "      <td>5.0000</td>\n",
              "      <td>6.00000</td>\n",
              "      <td>6.000000</td>\n",
              "      <td>8.00000</td>\n",
              "    </tr>\n",
              "  </tbody>\n",
              "</table>\n",
              "</div>"
            ],
            "text/plain": [
              "                       count       mean  ...        75%        max\n",
              "fixed acidity         1599.0   8.319637  ...   9.200000   15.90000\n",
              "volatile acidity      1599.0   0.527821  ...   0.640000    1.58000\n",
              "citric acid           1599.0   0.270976  ...   0.420000    1.00000\n",
              "residual sugar        1599.0   2.538806  ...   2.600000   15.50000\n",
              "chlorides             1599.0   0.087467  ...   0.090000    0.61100\n",
              "free sulfur dioxide   1599.0  15.874922  ...  21.000000   72.00000\n",
              "total sulfur dioxide  1599.0  46.467792  ...  62.000000  289.00000\n",
              "density               1599.0   0.996747  ...   0.997835    1.00369\n",
              "pH                    1599.0   3.311113  ...   3.400000    4.01000\n",
              "sulphates             1599.0   0.658149  ...   0.730000    2.00000\n",
              "alcohol               1599.0  10.422983  ...  11.100000   14.90000\n",
              "quality               1599.0   5.636023  ...   6.000000    8.00000\n",
              "\n",
              "[12 rows x 8 columns]"
            ]
          },
          "metadata": {},
          "execution_count": 123
        }
      ]
    },
    {
      "cell_type": "markdown",
      "metadata": {
        "id": "pd26ykScR-A7"
      },
      "source": [
        "*Se mueve la columna dependiente a la primera posición*"
      ]
    },
    {
      "cell_type": "code",
      "metadata": {
        "colab": {
          "base_uri": "https://localhost:8080/",
          "height": 441
        },
        "id": "1c9zJW5lQmO_",
        "outputId": "7beb7e02-6f22-4430-e152-2856b4361404"
      },
      "source": [
        "cols = list(df_wineNorm)\n",
        "cols[0], cols[11] = cols[11], cols[0]\n",
        "df_wineNorm = df_wineNorm[cols]\n",
        "df_wineNorm"
      ],
      "execution_count": 124,
      "outputs": [
        {
          "output_type": "execute_result",
          "data": {
            "text/html": [
              "<div>\n",
              "<style scoped>\n",
              "    .dataframe tbody tr th:only-of-type {\n",
              "        vertical-align: middle;\n",
              "    }\n",
              "\n",
              "    .dataframe tbody tr th {\n",
              "        vertical-align: top;\n",
              "    }\n",
              "\n",
              "    .dataframe thead th {\n",
              "        text-align: right;\n",
              "    }\n",
              "</style>\n",
              "<table border=\"1\" class=\"dataframe\">\n",
              "  <thead>\n",
              "    <tr style=\"text-align: right;\">\n",
              "      <th></th>\n",
              "      <th>quality</th>\n",
              "      <th>volatile acidity</th>\n",
              "      <th>citric acid</th>\n",
              "      <th>residual sugar</th>\n",
              "      <th>chlorides</th>\n",
              "      <th>free sulfur dioxide</th>\n",
              "      <th>total sulfur dioxide</th>\n",
              "      <th>density</th>\n",
              "      <th>pH</th>\n",
              "      <th>sulphates</th>\n",
              "      <th>alcohol</th>\n",
              "      <th>fixed acidity</th>\n",
              "    </tr>\n",
              "  </thead>\n",
              "  <tbody>\n",
              "    <tr>\n",
              "      <th>0</th>\n",
              "      <td>5</td>\n",
              "      <td>0.700</td>\n",
              "      <td>0.00</td>\n",
              "      <td>1.9</td>\n",
              "      <td>0.076</td>\n",
              "      <td>11.0</td>\n",
              "      <td>34.0</td>\n",
              "      <td>0.99780</td>\n",
              "      <td>3.51</td>\n",
              "      <td>0.56</td>\n",
              "      <td>9.4</td>\n",
              "      <td>7.4</td>\n",
              "    </tr>\n",
              "    <tr>\n",
              "      <th>1</th>\n",
              "      <td>5</td>\n",
              "      <td>0.880</td>\n",
              "      <td>0.00</td>\n",
              "      <td>2.6</td>\n",
              "      <td>0.098</td>\n",
              "      <td>25.0</td>\n",
              "      <td>67.0</td>\n",
              "      <td>0.99680</td>\n",
              "      <td>3.20</td>\n",
              "      <td>0.68</td>\n",
              "      <td>9.8</td>\n",
              "      <td>7.8</td>\n",
              "    </tr>\n",
              "    <tr>\n",
              "      <th>2</th>\n",
              "      <td>5</td>\n",
              "      <td>0.760</td>\n",
              "      <td>0.04</td>\n",
              "      <td>2.3</td>\n",
              "      <td>0.092</td>\n",
              "      <td>15.0</td>\n",
              "      <td>54.0</td>\n",
              "      <td>0.99700</td>\n",
              "      <td>3.26</td>\n",
              "      <td>0.65</td>\n",
              "      <td>9.8</td>\n",
              "      <td>7.8</td>\n",
              "    </tr>\n",
              "    <tr>\n",
              "      <th>3</th>\n",
              "      <td>6</td>\n",
              "      <td>0.280</td>\n",
              "      <td>0.56</td>\n",
              "      <td>1.9</td>\n",
              "      <td>0.075</td>\n",
              "      <td>17.0</td>\n",
              "      <td>60.0</td>\n",
              "      <td>0.99800</td>\n",
              "      <td>3.16</td>\n",
              "      <td>0.58</td>\n",
              "      <td>9.8</td>\n",
              "      <td>11.2</td>\n",
              "    </tr>\n",
              "    <tr>\n",
              "      <th>4</th>\n",
              "      <td>5</td>\n",
              "      <td>0.700</td>\n",
              "      <td>0.00</td>\n",
              "      <td>1.9</td>\n",
              "      <td>0.076</td>\n",
              "      <td>11.0</td>\n",
              "      <td>34.0</td>\n",
              "      <td>0.99780</td>\n",
              "      <td>3.51</td>\n",
              "      <td>0.56</td>\n",
              "      <td>9.4</td>\n",
              "      <td>7.4</td>\n",
              "    </tr>\n",
              "    <tr>\n",
              "      <th>...</th>\n",
              "      <td>...</td>\n",
              "      <td>...</td>\n",
              "      <td>...</td>\n",
              "      <td>...</td>\n",
              "      <td>...</td>\n",
              "      <td>...</td>\n",
              "      <td>...</td>\n",
              "      <td>...</td>\n",
              "      <td>...</td>\n",
              "      <td>...</td>\n",
              "      <td>...</td>\n",
              "      <td>...</td>\n",
              "    </tr>\n",
              "    <tr>\n",
              "      <th>1594</th>\n",
              "      <td>5</td>\n",
              "      <td>0.600</td>\n",
              "      <td>0.08</td>\n",
              "      <td>2.0</td>\n",
              "      <td>0.090</td>\n",
              "      <td>32.0</td>\n",
              "      <td>44.0</td>\n",
              "      <td>0.99490</td>\n",
              "      <td>3.45</td>\n",
              "      <td>0.58</td>\n",
              "      <td>10.5</td>\n",
              "      <td>6.2</td>\n",
              "    </tr>\n",
              "    <tr>\n",
              "      <th>1595</th>\n",
              "      <td>6</td>\n",
              "      <td>0.550</td>\n",
              "      <td>0.10</td>\n",
              "      <td>2.2</td>\n",
              "      <td>0.062</td>\n",
              "      <td>39.0</td>\n",
              "      <td>51.0</td>\n",
              "      <td>0.99512</td>\n",
              "      <td>3.52</td>\n",
              "      <td>0.76</td>\n",
              "      <td>11.2</td>\n",
              "      <td>5.9</td>\n",
              "    </tr>\n",
              "    <tr>\n",
              "      <th>1596</th>\n",
              "      <td>6</td>\n",
              "      <td>0.510</td>\n",
              "      <td>0.13</td>\n",
              "      <td>2.3</td>\n",
              "      <td>0.076</td>\n",
              "      <td>29.0</td>\n",
              "      <td>40.0</td>\n",
              "      <td>0.99574</td>\n",
              "      <td>3.42</td>\n",
              "      <td>0.75</td>\n",
              "      <td>11.0</td>\n",
              "      <td>6.3</td>\n",
              "    </tr>\n",
              "    <tr>\n",
              "      <th>1597</th>\n",
              "      <td>5</td>\n",
              "      <td>0.645</td>\n",
              "      <td>0.12</td>\n",
              "      <td>2.0</td>\n",
              "      <td>0.075</td>\n",
              "      <td>32.0</td>\n",
              "      <td>44.0</td>\n",
              "      <td>0.99547</td>\n",
              "      <td>3.57</td>\n",
              "      <td>0.71</td>\n",
              "      <td>10.2</td>\n",
              "      <td>5.9</td>\n",
              "    </tr>\n",
              "    <tr>\n",
              "      <th>1598</th>\n",
              "      <td>6</td>\n",
              "      <td>0.310</td>\n",
              "      <td>0.47</td>\n",
              "      <td>3.6</td>\n",
              "      <td>0.067</td>\n",
              "      <td>18.0</td>\n",
              "      <td>42.0</td>\n",
              "      <td>0.99549</td>\n",
              "      <td>3.39</td>\n",
              "      <td>0.66</td>\n",
              "      <td>11.0</td>\n",
              "      <td>6.0</td>\n",
              "    </tr>\n",
              "  </tbody>\n",
              "</table>\n",
              "<p>1599 rows × 12 columns</p>\n",
              "</div>"
            ],
            "text/plain": [
              "      quality  volatile acidity  citric acid  ...  sulphates  alcohol  fixed acidity\n",
              "0           5             0.700         0.00  ...       0.56      9.4            7.4\n",
              "1           5             0.880         0.00  ...       0.68      9.8            7.8\n",
              "2           5             0.760         0.04  ...       0.65      9.8            7.8\n",
              "3           6             0.280         0.56  ...       0.58      9.8           11.2\n",
              "4           5             0.700         0.00  ...       0.56      9.4            7.4\n",
              "...       ...               ...          ...  ...        ...      ...            ...\n",
              "1594        5             0.600         0.08  ...       0.58     10.5            6.2\n",
              "1595        6             0.550         0.10  ...       0.76     11.2            5.9\n",
              "1596        6             0.510         0.13  ...       0.75     11.0            6.3\n",
              "1597        5             0.645         0.12  ...       0.71     10.2            5.9\n",
              "1598        6             0.310         0.47  ...       0.66     11.0            6.0\n",
              "\n",
              "[1599 rows x 12 columns]"
            ]
          },
          "metadata": {},
          "execution_count": 124
        }
      ]
    },
    {
      "cell_type": "markdown",
      "metadata": {
        "id": "MmO1d30UOXgw"
      },
      "source": [
        "# **Regresión Lineal**"
      ]
    },
    {
      "cell_type": "markdown",
      "metadata": {
        "id": "e4jglB6An1A0"
      },
      "source": [
        "## **Regresión lineal clásica**"
      ]
    },
    {
      "cell_type": "markdown",
      "metadata": {
        "id": "zBirE-V0mNaQ"
      },
      "source": [
        "*En primera instancia, se realizará la regresión lineal tradicional utilizando la biblioteca de SKlearn (LinearRegression) con el fin de comparar los valores a cuando esta se realiza con un gradiente estocástico. Con base en ello, al igual que el ejercicio realizado en clase, se normalizarán los datos*"
      ]
    },
    {
      "cell_type": "markdown",
      "metadata": {
        "id": "2yHMzM3HmrYu"
      },
      "source": [
        "*Se crea la instancia de la regresión lineal*"
      ]
    },
    {
      "cell_type": "code",
      "metadata": {
        "id": "9vJ73CUqPc6-"
      },
      "source": [
        "linear_regression = LinearRegression(normalize=True)"
      ],
      "execution_count": 125,
      "outputs": []
    },
    {
      "cell_type": "markdown",
      "metadata": {
        "id": "Fr9yWYhymwHK"
      },
      "source": [
        "*Se separan los datos por variables independientes y dependientes*"
      ]
    },
    {
      "cell_type": "code",
      "metadata": {
        "colab": {
          "base_uri": "https://localhost:8080/"
        },
        "id": "SvnWkIDhKz8u",
        "outputId": "8bf6f370-da8a-4000-fa12-adc6fe0e72cf"
      },
      "source": [
        "Ymuestra = df_wineNorm['quality'].to_numpy()\n",
        "Ymuestra"
      ],
      "execution_count": 126,
      "outputs": [
        {
          "output_type": "execute_result",
          "data": {
            "text/plain": [
              "array([5, 5, 5, ..., 6, 5, 6])"
            ]
          },
          "metadata": {},
          "execution_count": 126
        }
      ]
    },
    {
      "cell_type": "code",
      "metadata": {
        "colab": {
          "base_uri": "https://localhost:8080/"
        },
        "id": "SPHK53zXVy9x",
        "outputId": "42255e10-264f-4e27-cf9d-8f5dccca9581"
      },
      "source": [
        "Xmuestra = df_wineNorm[['volatile acidity','citric acid','residual sugar','chlorides','free sulfur dioxide','total sulfur dioxide','density','pH','sulphates','alcohol','fixed acidity']].to_numpy()\n",
        "Xmuestra"
      ],
      "execution_count": 127,
      "outputs": [
        {
          "output_type": "execute_result",
          "data": {
            "text/plain": [
              "array([[ 0.7  ,  0.   ,  1.9  , ...,  0.56 ,  9.4  ,  7.4  ],\n",
              "       [ 0.88 ,  0.   ,  2.6  , ...,  0.68 ,  9.8  ,  7.8  ],\n",
              "       [ 0.76 ,  0.04 ,  2.3  , ...,  0.65 ,  9.8  ,  7.8  ],\n",
              "       ...,\n",
              "       [ 0.51 ,  0.13 ,  2.3  , ...,  0.75 , 11.   ,  6.3  ],\n",
              "       [ 0.645,  0.12 ,  2.   , ...,  0.71 , 10.2  ,  5.9  ],\n",
              "       [ 0.31 ,  0.47 ,  3.6  , ...,  0.66 , 11.   ,  6.   ]])"
            ]
          },
          "metadata": {},
          "execution_count": 127
        }
      ]
    },
    {
      "cell_type": "markdown",
      "metadata": {
        "id": "sJ7ivkL8m7tJ"
      },
      "source": [
        "*Se realiza la división de los datos en datos de testeo y entrenamiento*"
      ]
    },
    {
      "cell_type": "code",
      "metadata": {
        "colab": {
          "base_uri": "https://localhost:8080/"
        },
        "id": "eJAnU_v4Z_UE",
        "outputId": "901ffe1f-fe32-47ac-f2e1-36350d1b745d"
      },
      "source": [
        "X_train, X_test, y_train, y_test = train_test_split(Xmuestra, Ymuestra, train_size = 0.8)\n",
        "print(\"X_train ->\\n\",X_train.shape)\n",
        "print(\"y_train ->\\n\",y_train.shape)\n",
        "print(\"X_test ->\\n\",X_test.shape)\n",
        "print(\"y_test ->\\n\",y_test.shape)"
      ],
      "execution_count": 128,
      "outputs": [
        {
          "output_type": "stream",
          "name": "stdout",
          "text": [
            "X_train ->\n",
            " (1279, 11)\n",
            "y_train ->\n",
            " (1279,)\n",
            "X_test ->\n",
            " (320, 11)\n",
            "y_test ->\n",
            " (320,)\n"
          ]
        }
      ]
    },
    {
      "cell_type": "markdown",
      "metadata": {
        "id": "vlmEaBt1nHZZ"
      },
      "source": [
        "*Se realiza el 'fit' de la regresión con los datos de entrenamiento*"
      ]
    },
    {
      "cell_type": "code",
      "metadata": {
        "colab": {
          "base_uri": "https://localhost:8080/"
        },
        "id": "eN1hpGF2bHW0",
        "outputId": "3c75024d-b1d7-4a5b-aa78-775470d201d5"
      },
      "source": [
        "linear_regression.fit(X_train,y_train)"
      ],
      "execution_count": 129,
      "outputs": [
        {
          "output_type": "execute_result",
          "data": {
            "text/plain": [
              "LinearRegression(copy_X=True, fit_intercept=True, n_jobs=None, normalize=True)"
            ]
          },
          "metadata": {},
          "execution_count": 129
        }
      ]
    },
    {
      "cell_type": "markdown",
      "metadata": {
        "id": "f5xnVhF5nRZs"
      },
      "source": [
        "*Se realizan las predicciones para el conjunto tanto de entrenamiento, como de testeo. Esto con el fin de probar que tan bueno es el modelo prediciendo datos que conoce y los que no*"
      ]
    },
    {
      "cell_type": "code",
      "metadata": {
        "id": "I4r_iqHybWl1"
      },
      "source": [
        "predicciones_train = linear_regression.predict(X_train)\n",
        "predicciones_test = linear_regression.predict(X_test)"
      ],
      "execution_count": 130,
      "outputs": []
    },
    {
      "cell_type": "markdown",
      "metadata": {
        "id": "Euqlbnzunfo3"
      },
      "source": [
        "*Se obtienen las métricas de rendimiento del modelo*"
      ]
    },
    {
      "cell_type": "code",
      "metadata": {
        "colab": {
          "base_uri": "https://localhost:8080/"
        },
        "id": "RTlffzi7bQlY",
        "outputId": "528a32f2-d9b2-4bc1-882d-5d496fd75b49"
      },
      "source": [
        "print(\"Raíz del error cuadrático medio (Train)->\", np.sqrt(mean_squared_error(predicciones_train, y_train)))\n",
        "print(\"Error cuadrático medio (Train)->\", mean_squared_error(predicciones_train, y_train))\n",
        "print(\"Raíz del error cuadrático medio (Test)->\", np.sqrt(mean_squared_error(predicciones_test, y_test)))\n",
        "print(\"Error cuadrático medio (Test)->\", mean_absolute_error(predicciones_test, y_test))\n",
        "print(\"Puntuación R2 (Train) -> \", r2_score(predicciones_train, y_train))\n",
        "print(\"Puntuación R2 (Test) -> \", r2_score(predicciones_test, y_test))"
      ],
      "execution_count": 131,
      "outputs": [
        {
          "output_type": "stream",
          "name": "stdout",
          "text": [
            "Raíz del error cuadrático medio (Train)-> 0.6396022444989123\n",
            "Error cuadrático medio (Train)-> 0.40909103116804646\n",
            "Raíz del error cuadrático medio (Test)-> 0.6715234414169576\n",
            "Error cuadrático medio (Test)-> 0.5319052849687422\n",
            "Puntuación R2 (Train) ->  -0.7437455049630908\n",
            "Puntuación R2 (Test) ->  -0.6956303440443876\n"
          ]
        }
      ]
    },
    {
      "cell_type": "markdown",
      "metadata": {
        "id": "4u0bqw20nntl"
      },
      "source": [
        "*Se imprimen los coeficientes obtenidos por la regresión lineal*"
      ]
    },
    {
      "cell_type": "code",
      "metadata": {
        "colab": {
          "base_uri": "https://localhost:8080/"
        },
        "id": "lAb31vRic4tz",
        "outputId": "7282682b-2ec6-4fd4-82dc-1efa7dbb79c3"
      },
      "source": [
        "linear_regression.intercept_"
      ],
      "execution_count": 132,
      "outputs": [
        {
          "output_type": "execute_result",
          "data": {
            "text/plain": [
              "18.84383579469553"
            ]
          },
          "metadata": {},
          "execution_count": 132
        }
      ]
    },
    {
      "cell_type": "code",
      "metadata": {
        "colab": {
          "base_uri": "https://localhost:8080/"
        },
        "id": "nXgFoiseiGPa",
        "outputId": "e19cc7e6-8605-4dff-fdab-c134355d9883"
      },
      "source": [
        "linear_regression.coef_"
      ],
      "execution_count": 133,
      "outputs": [
        {
          "output_type": "execute_result",
          "data": {
            "text/plain": [
              "array([-1.10865396e+00, -2.11285664e-01,  2.01922422e-02, -2.05769396e+00,\n",
              "        3.85880334e-03, -3.77975607e-03, -1.43351605e+01, -5.07447834e-01,\n",
              "        8.62962147e-01,  2.81021909e-01,  1.72572879e-02])"
            ]
          },
          "metadata": {},
          "execution_count": 133
        }
      ]
    },
    {
      "cell_type": "markdown",
      "metadata": {
        "id": "NvkmzQbVn_Iz"
      },
      "source": [
        "## **Regresión lineal con gradiente descendiente estocástico**"
      ]
    },
    {
      "cell_type": "markdown",
      "metadata": {
        "id": "a-4R_tJsbddA"
      },
      "source": [
        "*Se importan las bibliotecas necesarias para el gradiente descendiente*"
      ]
    },
    {
      "cell_type": "code",
      "metadata": {
        "id": "1aVJfl9_j_Mo"
      },
      "source": [
        "from sklearn.linear_model import SGDRegressor\n",
        "from sklearn.preprocessing import StandardScaler"
      ],
      "execution_count": 134,
      "outputs": []
    },
    {
      "cell_type": "markdown",
      "metadata": {
        "id": "2JZAsaAzbj7u"
      },
      "source": [
        "*Se estandarizan los datos ya que como el dataset es muy pequeño, con SKlearn tiende a crearse mucho ruido con esta biblioteca y se soluciona de esta manera*"
      ]
    },
    {
      "cell_type": "code",
      "metadata": {
        "id": "Uu1Y-aeHKNaG"
      },
      "source": [
        "scaler = StandardScaler()\n",
        "X_scaled = scaler.fit_transform(X_train)\n",
        "Y_scaled = scaler.fit_transform(y_train.reshape(-1, 1))"
      ],
      "execution_count": 135,
      "outputs": []
    },
    {
      "cell_type": "markdown",
      "metadata": {
        "id": "wQRz-LnFbxVl"
      },
      "source": [
        "*Se crea una variable en la que se guardará toda la historia de las impresiones de consola (stdout), de manera que, ya que con el parametro \"verbose\" de el SDGRegressor, nos muestra la pérdida en cada una de las épocas del gradiente, de esta manera se puede mantener la trazabilidad de los costos a lo largo de las iteraciones*"
      ]
    },
    {
      "cell_type": "code",
      "metadata": {
        "id": "qOCZXzLdZp_3"
      },
      "source": [
        "old_stdout = sys.stdout\n",
        "sys.stdout = mystdout = StringIO()"
      ],
      "execution_count": 136,
      "outputs": []
    },
    {
      "cell_type": "markdown",
      "metadata": {
        "id": "kbAA9bUVcdpT"
      },
      "source": [
        "*Se crea el SDGRegressor con una taza de aprendizaje del 10%*"
      ]
    },
    {
      "cell_type": "code",
      "metadata": {
        "id": "8kd1Z7lzs1dE"
      },
      "source": [
        "sgd_reg = SGDRegressor(alpha = 0.1, verbose=1)"
      ],
      "execution_count": 137,
      "outputs": []
    },
    {
      "cell_type": "markdown",
      "metadata": {
        "id": "2ehc0QfWcnjs"
      },
      "source": [
        "*Se hace el 'fit' al modelo*"
      ]
    },
    {
      "cell_type": "code",
      "metadata": {
        "colab": {
          "base_uri": "https://localhost:8080/"
        },
        "id": "16Dur1QNaO0V",
        "outputId": "232f8788-9662-415e-ddab-d5fec70e4c2c"
      },
      "source": [
        "sgd_reg.fit(X_scaled, y_train)"
      ],
      "execution_count": 138,
      "outputs": [
        {
          "output_type": "execute_result",
          "data": {
            "text/plain": [
              "SGDRegressor(alpha=0.1, average=False, early_stopping=False, epsilon=0.1,\n",
              "             eta0=0.01, fit_intercept=True, l1_ratio=0.15,\n",
              "             learning_rate='invscaling', loss='squared_loss', max_iter=1000,\n",
              "             n_iter_no_change=5, penalty='l2', power_t=0.25, random_state=None,\n",
              "             shuffle=True, tol=0.001, validation_fraction=0.1, verbose=1,\n",
              "             warm_start=False)"
            ]
          },
          "metadata": {},
          "execution_count": 138
        }
      ]
    },
    {
      "cell_type": "markdown",
      "metadata": {
        "id": "CpOAK2oDcr8S"
      },
      "source": [
        "*Se imprimen los coeficientes dados por el modelo*"
      ]
    },
    {
      "cell_type": "code",
      "metadata": {
        "id": "jgRxN2f9vibf",
        "colab": {
          "base_uri": "https://localhost:8080/"
        },
        "outputId": "11572e4a-f101-4f0a-e292-4380131ba088"
      },
      "source": [
        "sgd_reg.coef_"
      ],
      "execution_count": 139,
      "outputs": [
        {
          "output_type": "execute_result",
          "data": {
            "text/plain": [
              "array([-0.17718264, -0.00333806,  0.04237501, -0.08990503,  0.03254597,\n",
              "       -0.10345956, -0.04459798, -0.05907332,  0.13626398,  0.24911169,\n",
              "        0.05376423])"
            ]
          },
          "metadata": {},
          "execution_count": 139
        }
      ]
    },
    {
      "cell_type": "markdown",
      "metadata": {
        "id": "fK_niQdgcwNI"
      },
      "source": [
        "*Se realiza el filtrado de lo que ha registrado la variable de las impresiones en la consola para verificar los costos obtenidos en el SDGRegressor*"
      ]
    },
    {
      "cell_type": "code",
      "metadata": {
        "id": "u5-AYdZoUx-6"
      },
      "source": [
        "sys.stdout = old_stdout\n",
        "loss_history = mystdout.getvalue()\n",
        "loss_list = []\n",
        "for line in loss_history.split('\\n'):\n",
        "    if(len(line.split(\"loss: \")) == 1):\n",
        "        continue\n",
        "    loss_list.append(float(line.split(\"loss: \")[-1]))"
      ],
      "execution_count": 140,
      "outputs": []
    },
    {
      "cell_type": "markdown",
      "metadata": {
        "id": "sVUZe9UYdEjA"
      },
      "source": [
        "*Impresión de los costos*"
      ]
    },
    {
      "cell_type": "code",
      "metadata": {
        "colab": {
          "base_uri": "https://localhost:8080/"
        },
        "id": "A5hf6tVbbOoR",
        "outputId": "750d6779-0508-48d7-bded-18b7fd6026fe"
      },
      "source": [
        "print(\"Costos ->\\n\",loss_list)"
      ],
      "execution_count": 141,
      "outputs": [
        {
          "output_type": "stream",
          "name": "stdout",
          "text": [
            "Costos ->\n",
            " [2.123033, 0.221905, 0.208995, 0.208909, 0.208455, 0.207586, 0.2077, 0.208317]\n"
          ]
        }
      ]
    },
    {
      "cell_type": "markdown",
      "metadata": {
        "id": "y6EeGO-SdTBl"
      },
      "source": [
        "*Graficación de los costos*"
      ]
    },
    {
      "cell_type": "code",
      "metadata": {
        "colab": {
          "base_uri": "https://localhost:8080/",
          "height": 295
        },
        "id": "YOrqHCi4bD0V",
        "outputId": "cbfa2cfd-f5a3-4ba5-f7bd-71869b3306ec"
      },
      "source": [
        "plt.figure()\n",
        "plt.plot(np.arange(len(loss_list)), loss_list)\n",
        "plt.xlabel(\"Cantidad de iteraciones dadas en el modelo\")\n",
        "plt.ylabel(\"Costo\")\n",
        "plt.title(\"Costos por iteración\")\n",
        "plt.show()\n",
        "plt.close()"
      ],
      "execution_count": 142,
      "outputs": [
        {
          "output_type": "display_data",
          "data": {
            "image/png": "[encoded data removed]",
            "text/plain": [
              "<Figure size 432x288 with 1 Axes>"
            ]
          },
          "metadata": {
            "needs_background": "light"
          }
        }
      ]
    },
    {
      "cell_type": "markdown",
      "metadata": {
        "id": "n86hZE6KgNm8"
      },
      "source": [
        "# **Conclusiones**"
      ]
    },
    {
      "cell_type": "markdown",
      "metadata": {
        "id": "bOaf6Yr_gMRx"
      },
      "source": [
        "En conlusión despues de realizar la implementación en otro lenguaje de programación se puede observar que lo que se realizo en el QT creator se podria considerar datos de prueba los cuales se realizaron gracias a las formulas y funciones implementadas a mano, donde existe un error dentro de estos cálculos, si embargo en la implementación de python gracias a sus numerosas bibiliotecas completas, llenas de conocimiento y poder las cuales nos permiten verificar de una forma clara y consiza si dichos datos son correctos o se asemejan minimanete o por el contrario estan totalmente errados.\n",
        "Como se puede observar los datos que resultaron con la comprobación en python son muy parecidos. Tienen algunas discordancias, esto ya que en python al utilizar bibiliotecas los cálculos son muy precisos, mucho más que con función realizadas a mano. \n",
        "Para finalizar esta demostración permitio realizar una revisión e identificación de brechas de conocimiento, lo que permitio reforzar lo que se realizo en clase y cerrar esas pequeñas brechas al tener que realizarlo por nuestra cuenta."
      ]
    }
  ]
}
